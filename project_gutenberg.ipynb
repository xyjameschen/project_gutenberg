{
 "cells": [
  {
   "cell_type": "code",
   "execution_count": 155,
   "metadata": {},
   "outputs": [],
   "source": [
    "# 0. Import necessary packages\n",
    "import requests as req\n",
    "from bs4 import BeautifulSoup as bs\n",
    "import re\n",
    "import os"
   ]
  },
  {
   "cell_type": "code",
   "execution_count": 156,
   "metadata": {},
   "outputs": [],
   "source": [
    "# 1. Get all chinese books urls as dictionary\n",
    "url = \"https://www.gutenberg.org/browse/languages/zh\"\n",
    "res = req.get(url)\n",
    "soup = bs(res.text, \"lxml\")\n",
    "\n",
    "# 1.1 The selector of books info and then store all <a> as a list\n",
    "selector = \"body > div.container > div > div.pgdbbylanguage > ul > li > a\"\n",
    "soup_a_element_list = soup.select(selector)\n",
    "\n",
    "# 1.2 Function to filter chinese book\n",
    "def is_all_chinese(text):\n",
    "    chinese_pattern = re.compile(r'^[\\u4e00-\\u9fff]+$')\n",
    "    return bool(chinese_pattern.match(text))\n",
    "\n",
    "# 1.3 Get all book title and url from <a> and then store at a dict\n",
    "book_dict = {}\n",
    "for a_element in soup_a_element_list:\n",
    "    book_title = a_element.text \n",
    "    text_url = f\"https://www.gutenberg.org{a_element['href']}.txt.utf-8\"\n",
    "    if is_all_chinese(book_title):\n",
    "        book_dict[book_title] = text_url\n"
   ]
  },
  {
   "cell_type": "code",
   "execution_count": 157,
   "metadata": {},
   "outputs": [],
   "source": [
    "# 2. Navigate to the url of text and download as .txt files\n",
    "\n",
    "# 2.1 Stored path\n",
    "folder_name = \"project_gutenberg\"\n",
    "current_directory = os.getcwd()\n",
    "folder_path = os.path.join(current_directory, folder_name)\n",
    "\n",
    "# Download as file .txt at \"project_gutenberg\"\n",
    "for book_title, text_url in book_dict.items():\n",
    "    text_str = req.get(text_url).text\n",
    "    # Text structure\n",
    "    # The biginning of text is \"*** START OF THE PROJECT GUTENBERG EBOOK book_title ***\"\n",
    "    # The end of text is \"Updated\"\n",
    "    start_index = text_str.index(f\"*** START OF THE PROJECT GUTENBERG EBOOK {book_title} ***\")\n",
    "    end_index = text_str.index(\"Updated\")\n",
    "    # Filter the contents\n",
    "    content_str = text_str[start_index:end_index]\n",
    "    # Download the contents as file .txt\n",
    "    file_name = book_title + '.txt'\n",
    "    file_path = os.path.join(folder_path, file_name)\n",
    "    with open(file_path, \"w\", encoding=\"utf-8\") as file:\n",
    "        file.write(content_str)"
   ]
  }
 ],
 "metadata": {
  "kernelspec": {
   "display_name": "base",
   "language": "python",
   "name": "python3"
  },
  "language_info": {
   "codemirror_mode": {
    "name": "ipython",
    "version": 3
   },
   "file_extension": ".py",
   "mimetype": "text/x-python",
   "name": "python",
   "nbconvert_exporter": "python",
   "pygments_lexer": "ipython3",
   "version": "3.9.18"
  }
 },
 "nbformat": 4,
 "nbformat_minor": 2
}
